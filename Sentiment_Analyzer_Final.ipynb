{
  "nbformat_minor": 0,
  "cells": [
    {
      "cell_type": "markdown",
      "metadata": {
        "id": "view-in-github",
        "colab_type": "text"
      },
      "source": [
        "<a href=\"https://colab.research.google.com/github/yuga2005/AI_Test/blob/main/Sentiment_Analyzer_Final.ipynb\" target=\"_parent\"><img src=\"https://colab.research.google.com/assets/colab-badge.svg\" alt=\"Open In Colab\"/></a>"
      ]
    },
    {
      "cell_type": "code",
      "source": [
        "# Sample hotel reviews\n",
        "reviews = [\n",
        "    \"The Bawarchi Biryani is legendary! The flavors were incredible, the meat was perfectly cooked, and the rice was fluffy and aromatic. It's definitely worth the hype!\",\n",
        "\"The Bawarchi Biryani is a Hyderabad classic. It's a good value for the price, but I've had better biryani elsewhere in the city.\",\n",
        "\"The service at Bawarchi was terrible. We waited forever for our food, and the waiters were not very attentive.\",\n",
        "\"Bawarchi is a must-visit for any biryani lover visiting Hyderabad. The portion sizes are generous, and the atmosphere is lively.\",\n",
        "\"The Bawarchi Biryani is a bit greasy for my taste. However, the spices were delicious, and the raita helped to cut through the richness.\",\n",
        "\"I was disappointed with the Bawarchi Biryani. The rice was dry, and the meat was a bit tough.\",\n",
        "\"We ordered the Bawarchi Mutton Biryani for delivery, and it arrived hot and fresh. The delivery was fast and efficient.\",\n",
        "\"Bawarchi is a good option for a casual meal. The biryani is decent, but there are other things on the menu worth trying, like the kebabs.\",\n",
        "\"The Bawarchi Double Ka Meetha is a must-try dessert! It's rich, decadent, and the perfect ending to a biryani feast.\",\n",
        "\"The place gets very crowded at Bawarchi, especially on weekends. Be prepared to wait for a table.\",\n",
        "\"Bawarchi is a local institution, and it's easy to see why. The biryani is delicious, and the prices are affordable.\",\n",
        "\"The ambience at Bawarchi is a bit basic, but it's clean and functional.\",\n",
        "\"I loved the Chicken 65 at Bawarchi! It was crispy, flavorful, and perfectly spiced.\",\n",
        "\"The parking situation at Bawarchi can be a nightmare. Be prepared to walk a bit if you can't find a spot close by.\",\n",
        "\"Bawarchi offers great value for money. The biryani portions are large, and the prices are very reasonable.\",\n",
        "\"I would recommend Bawarchi for a no-frills biryani experience. It's not fancy, but the food is good and satisfying.\",\n",
        "\"Bawarchi is a great place to take a group of friends or family. The portions are large, and there's something on the menu for everyone.\",\n",
        "\"I found the biryani at Bawarchi to be a bit bland. It could have used more spices for my taste.\",\n",
        "\"Bawarchi is a Hyderabad institution, and it's a must-try for anyone visiting the city. The biryani is delicious, and the portions are generous.\",\n",
        "\"The biryani at Bawarchi is good, but it's not the best I've had in Hyderabad. There are other places that offer a more unique and flavorful biryani experience.\",\n",
        "\"I love the take-out option at Bawarchi. It's a great way to enjoy their delicious biryani at home.\",\n",
        "\"The waiters at Bawarchi can be a bit pushy when it comes to upselling drinks and appetizers.\",\n",
        "\"Bawarchi is a great place to experience authentic Hyderabadi cuisine. The biryani is a must-try, but don't forget to try the other dishes on the menu as well.\",\n",
        "\"The biryani at Bawarchi is a bit oily, but the flavor is still good.\",\n",
        "\"We had a great experience at Bawarchi! The food was delicious, the service was friendly, and the prices were reasonable.\",\n",
        "\"The biryani at Bawarchi is a bit overhyped. It's good, but it's not the best biryani in Hyderabad.\"\n",
        "]\n",
        "\n",
        "\n",
        "with open('hotel_reviews.txt', 'w') as file:\n",
        "    for review in reviews:\n",
        "        file.write(review + \"\\n\")\n",
        "\n",
        "\n"
      ],
      "metadata": {
        "id": "gDH-nSZuat69"
      },
      "execution_count": 9,
      "outputs": []
    },
    {
      "cell_type": "markdown",
      "source": [
        "# Import Requirements"
      ],
      "metadata": {
        "id": "XLlzZ9cBEIRK"
      }
    },
    {
      "cell_type": "code",
      "source": [
        "import torch\n",
        "from transformers import RobertaForSequenceClassification, RobertaTokenizer\n",
        "import nltk\n",
        "from nltk.tokenize import sent_tokenize\n",
        "import matplotlib.pyplot as plt\n",
        "from collections import Counter\n",
        "\n",
        "nltk.download('punkt')\n",
        "\n",
        "roberta_model = RobertaForSequenceClassification.from_pretrained(\"cardiffnlp/twitter-roberta-base-sentiment\")\n",
        "roberta_tokenizer = RobertaTokenizer.from_pretrained(\"cardiffnlp/twitter-roberta-base-sentiment\")"
      ],
      "metadata": {
        "id": "dsGOpgt99Mbb",
        "outputId": "5e84fb2e-f04d-4ada-e6c2-6f12e66ac889",
        "colab": {
          "base_uri": "https://localhost:8080/"
        }
      },
      "execution_count": 11,
      "outputs": [
        {
          "output_type": "stream",
          "name": "stderr",
          "text": [
            "[nltk_data] Downloading package punkt to /root/nltk_data...\n",
            "[nltk_data]   Package punkt is already up-to-date!\n"
          ]
        }
      ]
    },
    {
      "cell_type": "markdown",
      "source": [
        "# Read Reviews data"
      ],
      "metadata": {
        "id": "eA_bTEY4EMlQ"
      }
    },
    {
      "cell_type": "code",
      "source": [
        "file_path = 'hotel_reviews.txt'\n",
        "with open(file_path, 'r', encoding='utf-8') as file:\n",
        "    reviews = file.readlines()"
      ],
      "metadata": {
        "id": "InSr1vRk9QBE"
      },
      "execution_count": 26,
      "outputs": []
    },
    {
      "cell_type": "markdown",
      "source": [
        "# For Sentiment Analysis"
      ],
      "metadata": {
        "id": "pCWw7Z1fEQ8G"
      }
    },
    {
      "cell_type": "code",
      "source": [
        "def sentiment_analysis(text):\n",
        "  inputs = roberta_tokenizer(text, return_tensors=\"pt\", truncation=True, padding=True, max_length=512)\n",
        "  outputs = roberta_model(**inputs)\n",
        "  scores = outputs.logits.detach().numpy()[0]\n",
        "  sentiment = scores.argmax()\n",
        "  if sentiment == 0:\n",
        "      return \"NEGATIVE\"\n",
        "  elif sentiment == 1:\n",
        "      return \"NEUTRAL\"\n",
        "  else:\n",
        "      return \"POSITIVE\""
      ],
      "metadata": {
        "id": "b1k6U3_WDklP"
      },
      "execution_count": 29,
      "outputs": []
    },
    {
      "cell_type": "markdown",
      "source": [
        "# For passing reviews to sentiment Analysis"
      ],
      "metadata": {
        "id": "PWO1TvW-EZDL"
      }
    },
    {
      "cell_type": "code",
      "source": [
        "problems = []\n",
        "sentiments_dict = {'POSITIVE':[], 'NEUTRAL':[], 'NEGATIVE':[]}\n",
        "sentiment_counts = {\"POSITIVE\": 0, \"NEUTRAL\": 0, \"NEGATIVE\": 0}\n",
        "\n",
        "for review in reviews:\n",
        "    sentences = sent_tokenize(review)\n",
        "    sentiment = sentiment_analysis(sentences)\n",
        "    print(f\"Review: {' '.join(sentences)}\")\n",
        "    print(f\"Sentiment: {sentiment}\\n\")\n",
        "    sentiments_dict[sentiment].append(' '.join(sentences))\n",
        "\n",
        "    sentiment_counts[sentiment] += 1\n",
        "\n",
        "    if sentiment in ['NEGATIVE', 'NEUTRAL']:\n",
        "        problems.append(' '.join(sentences))"
      ],
      "metadata": {
        "id": "jAgG7EERDph2",
        "outputId": "397132ed-2a1e-4661-89c1-1028d1e13578",
        "colab": {
          "base_uri": "https://localhost:8080/"
        }
      },
      "execution_count": 30,
      "outputs": [
        {
          "output_type": "stream",
          "name": "stdout",
          "text": [
            "Review: The Bawarchi Biryani is legendary! The flavors were incredible, the meat was perfectly cooked, and the rice was fluffy and aromatic. It's definitely worth the hype!\n",
            "Sentiment: POSITIVE\n",
            "\n",
            "Review: The Bawarchi Biryani is a Hyderabad classic. It's a good value for the price, but I've had better biryani elsewhere in the city.\n",
            "Sentiment: NEUTRAL\n",
            "\n",
            "Review: The service at Bawarchi was terrible. We waited forever for our food, and the waiters were not very attentive.\n",
            "Sentiment: NEGATIVE\n",
            "\n",
            "Review: Bawarchi is a must-visit for any biryani lover visiting Hyderabad. The portion sizes are generous, and the atmosphere is lively.\n",
            "Sentiment: POSITIVE\n",
            "\n",
            "Review: The Bawarchi Biryani is a bit greasy for my taste. However, the spices were delicious, and the raita helped to cut through the richness.\n",
            "Sentiment: NEGATIVE\n",
            "\n",
            "Review: I was disappointed with the Bawarchi Biryani. The rice was dry, and the meat was a bit tough.\n",
            "Sentiment: NEGATIVE\n",
            "\n",
            "Review: We ordered the Bawarchi Mutton Biryani for delivery, and it arrived hot and fresh. The delivery was fast and efficient.\n",
            "Sentiment: POSITIVE\n",
            "\n",
            "Review: Bawarchi is a good option for a casual meal. The biryani is decent, but there are other things on the menu worth trying, like the kebabs.\n",
            "Sentiment: POSITIVE\n",
            "\n",
            "Review: The Bawarchi Double Ka Meetha is a must-try dessert! It's rich, decadent, and the perfect ending to a biryani feast.\n",
            "Sentiment: POSITIVE\n",
            "\n",
            "Review: The place gets very crowded at Bawarchi, especially on weekends. Be prepared to wait for a table.\n",
            "Sentiment: NEGATIVE\n",
            "\n",
            "Review: Bawarchi is a local institution, and it's easy to see why. The biryani is delicious, and the prices are affordable.\n",
            "Sentiment: NEUTRAL\n",
            "\n",
            "Review: The ambience at Bawarchi is a bit basic, but it's clean and functional.\n",
            "Sentiment: POSITIVE\n",
            "\n",
            "Review: I loved the Chicken 65 at Bawarchi! It was crispy, flavorful, and perfectly spiced.\n",
            "Sentiment: POSITIVE\n",
            "\n",
            "Review: The parking situation at Bawarchi can be a nightmare. Be prepared to walk a bit if you can't find a spot close by.\n",
            "Sentiment: NEGATIVE\n",
            "\n",
            "Review: Bawarchi offers great value for money. The biryani portions are large, and the prices are very reasonable.\n",
            "Sentiment: POSITIVE\n",
            "\n",
            "Review: I would recommend Bawarchi for a no-frills biryani experience. It's not fancy, but the food is good and satisfying.\n",
            "Sentiment: POSITIVE\n",
            "\n",
            "Review: Bawarchi is a great place to take a group of friends or family. The portions are large, and there's something on the menu for everyone.\n",
            "Sentiment: POSITIVE\n",
            "\n",
            "Review: I found the biryani at Bawarchi to be a bit bland. It could have used more spices for my taste.\n",
            "Sentiment: NEGATIVE\n",
            "\n",
            "Review: Bawarchi is a Hyderabad institution, and it's a must-try for anyone visiting the city. The biryani is delicious, and the portions are generous.\n",
            "Sentiment: POSITIVE\n",
            "\n",
            "Review: The biryani at Bawarchi is good, but it's not the best I've had in Hyderabad. There are other places that offer a more unique and flavorful biryani experience.\n",
            "Sentiment: NEGATIVE\n",
            "\n",
            "Review: I love the take-out option at Bawarchi. It's a great way to enjoy their delicious biryani at home.\n",
            "Sentiment: POSITIVE\n",
            "\n",
            "Review: The waiters at Bawarchi can be a bit pushy when it comes to upselling drinks and appetizers.\n",
            "Sentiment: NEGATIVE\n",
            "\n",
            "Review: Bawarchi is a great place to experience authentic Hyderabadi cuisine. The biryani is a must-try, but don't forget to try the other dishes on the menu as well.\n",
            "Sentiment: POSITIVE\n",
            "\n",
            "Review: The biryani at Bawarchi is a bit oily, but the flavor is still good.\n",
            "Sentiment: POSITIVE\n",
            "\n",
            "Review: We had a great experience at Bawarchi! The food was delicious, the service was friendly, and the prices were reasonable.\n",
            "Sentiment: POSITIVE\n",
            "\n",
            "Review: The biryani at Bawarchi is a bit overhyped. It's good, but it's not the best biryani in Hyderabad.\n",
            "Sentiment: NEGATIVE\n",
            "\n"
          ]
        }
      ]
    },
    {
      "cell_type": "markdown",
      "source": [
        "# List the most common Negetive and Neutral reviews"
      ],
      "metadata": {
        "id": "8w558JMrEmzk"
      }
    },
    {
      "cell_type": "code",
      "source": [
        "problem_counter = Counter(problems)\n",
        "most_common_problems = problem_counter.most_common(5)\n",
        "\n",
        "print(\"Top Issues Mentioned in Reviews:\")\n",
        "for i, (problem, count) in enumerate(most_common_problems, start=1):\n",
        "    print(f\"{i}. {problem} (Mentioned {count} times)\")"
      ],
      "metadata": {
        "id": "dQFI3WheD4F3",
        "outputId": "a9c87e00-cc2c-4a9e-f3b0-4e54abc4bc69",
        "colab": {
          "base_uri": "https://localhost:8080/"
        }
      },
      "execution_count": 31,
      "outputs": [
        {
          "output_type": "stream",
          "name": "stdout",
          "text": [
            "Top Issues Mentioned in Reviews:\n",
            "1. The Bawarchi Biryani is a Hyderabad classic. It's a good value for the price, but I've had better biryani elsewhere in the city. (Mentioned 1 times)\n",
            "2. The service at Bawarchi was terrible. We waited forever for our food, and the waiters were not very attentive. (Mentioned 1 times)\n",
            "3. The Bawarchi Biryani is a bit greasy for my taste. However, the spices were delicious, and the raita helped to cut through the richness. (Mentioned 1 times)\n",
            "4. I was disappointed with the Bawarchi Biryani. The rice was dry, and the meat was a bit tough. (Mentioned 1 times)\n",
            "5. The place gets very crowded at Bawarchi, especially on weekends. Be prepared to wait for a table. (Mentioned 1 times)\n"
          ]
        }
      ]
    },
    {
      "cell_type": "markdown",
      "source": [
        "# For adding Visualizing the reviews sentiment analysis"
      ],
      "metadata": {
        "id": "Sn6MfaPzEu76"
      }
    },
    {
      "cell_type": "code",
      "source": [
        "labels = list(sentiment_counts.keys())\n",
        "sizes = list(sentiment_counts.values())\n",
        "colors = ['green', 'blue', 'red']\n",
        "\n",
        "plt.figure(figsize=(10, 6))\n",
        "bars = plt.bar(labels, sizes, color=colors)\n",
        "\n",
        "# Add text annotations on bars\n",
        "for bar in bars:\n",
        "    yval = bar.get_height()\n",
        "    plt.text(bar.get_x() + bar.get_width()/2, yval + 1, yval, ha='center', va='bottom')\n",
        "\n",
        "plt.xlabel('Sentiment')\n",
        "plt.ylabel('Number of Reviews')\n",
        "plt.title('Sentiment Distribution of Hotel Reviews')\n",
        "plt.show()"
      ],
      "metadata": {
        "id": "JL6jF73PD_jP",
        "outputId": "f3e8dcb4-4896-4412-d2a6-7bcd35f6fc0f",
        "colab": {
          "base_uri": "https://localhost:8080/",
          "height": 564
        }
      },
      "execution_count": 32,
      "outputs": [
        {
          "output_type": "display_data",
          "data": {
            "text/plain": [
              "<Figure size 1000x600 with 1 Axes>"
            ],
            "image/png": "[encoded data removed]"
          },
          "metadata": {}
        }
      ]
    }
  ],
  "metadata": {
    "colab": {
      "collapsed_sections": [
        "JndnmDMp66FL",
        "YHIWvc9Ms-Ll",
        "TJffr5_Jwqvd"
      ],
      "name": "Sentiment_Analyzer.ipynb",
      "provenance": [],
      "include_colab_link": true
    },
    "kernelspec": {
      "name": "python3",
      "display_name": "Python 3"
    }
  },
  "nbformat": 4
}