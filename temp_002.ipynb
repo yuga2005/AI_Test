{
  "nbformat": 4,
  "nbformat_minor": 0,
  "metadata": {
    "colab": {
      "provenance": [],
      "authorship_tag": "ABX9TyOEwgXY40YS/eWoylJiWFoN",
      "include_colab_link": true
    },
    "kernelspec": {
      "name": "python3",
      "display_name": "Python 3"
    },
    "language_info": {
      "name": "python"
    }
  },
  "cells": [
    {
      "cell_type": "markdown",
      "metadata": {
        "id": "view-in-github",
        "colab_type": "text"
      },
      "source": [
        "<a href=\"https://colab.research.google.com/github/yuga2005/AI_Test/blob/main/Sentiment_analysis_02.ipynb\" target=\"_parent\"><img src=\"https://colab.research.google.com/assets/colab-badge.svg\" alt=\"Open In Colab\"/></a>"
      ]
    },
    {
      "cell_type": "code",
      "execution_count": 3,
      "metadata": {
        "colab": {
          "base_uri": "https://localhost:8080/",
          "height": 602
        },
        "id": "sassDS0VOg2x",
        "outputId": "92b94ad2-1062-475e-b3d3-96ac26fe8865"
      },
      "outputs": [
        {
          "output_type": "stream",
          "name": "stderr",
          "text": [
            "[nltk_data] Downloading package punkt to /root/nltk_data...\n",
            "[nltk_data]   Package punkt is already up-to-date!\n"
          ]
        },
        {
          "output_type": "error",
          "ename": "FileNotFoundError",
          "evalue": "[Errno 2] No such file or directory: 'hotel_reviews.txt'",
          "traceback": [
            "\u001b[0;31m---------------------------------------------------------------------------\u001b[0m",
            "\u001b[0;31mFileNotFoundError\u001b[0m                         Traceback (most recent call last)",
            "\u001b[0;32m<ipython-input-3-d2edc0c3f349>\u001b[0m in \u001b[0;36m<cell line: 76>\u001b[0;34m()\u001b[0m\n\u001b[1;32m     75\u001b[0m \u001b[0;34m\u001b[0m\u001b[0m\n\u001b[1;32m     76\u001b[0m \u001b[0;32mif\u001b[0m \u001b[0m__name__\u001b[0m \u001b[0;34m==\u001b[0m \u001b[0;34m\"__main__\"\u001b[0m\u001b[0;34m:\u001b[0m\u001b[0;34m\u001b[0m\u001b[0;34m\u001b[0m\u001b[0m\n\u001b[0;32m---> 77\u001b[0;31m     \u001b[0mmain\u001b[0m\u001b[0;34m(\u001b[0m\u001b[0;34m)\u001b[0m\u001b[0;34m\u001b[0m\u001b[0;34m\u001b[0m\u001b[0m\n\u001b[0m",
            "\u001b[0;32m<ipython-input-3-d2edc0c3f349>\u001b[0m in \u001b[0;36mmain\u001b[0;34m()\u001b[0m\n\u001b[1;32m     70\u001b[0m \u001b[0;32mdef\u001b[0m \u001b[0mmain\u001b[0m\u001b[0;34m(\u001b[0m\u001b[0;34m)\u001b[0m\u001b[0;34m:\u001b[0m\u001b[0;34m\u001b[0m\u001b[0;34m\u001b[0m\u001b[0m\n\u001b[1;32m     71\u001b[0m     \u001b[0mfile_path\u001b[0m \u001b[0;34m=\u001b[0m \u001b[0;34m'hotel_reviews.txt'\u001b[0m  \u001b[0;31m# Path to the file containing hotel reviews\u001b[0m\u001b[0;34m\u001b[0m\u001b[0;34m\u001b[0m\u001b[0m\n\u001b[0;32m---> 72\u001b[0;31m     \u001b[0mreviews\u001b[0m \u001b[0;34m=\u001b[0m \u001b[0mread_reviews\u001b[0m\u001b[0;34m(\u001b[0m\u001b[0mfile_path\u001b[0m\u001b[0;34m)\u001b[0m\u001b[0;34m\u001b[0m\u001b[0;34m\u001b[0m\u001b[0m\n\u001b[0m\u001b[1;32m     73\u001b[0m     \u001b[0mproblems\u001b[0m\u001b[0;34m,\u001b[0m \u001b[0mreplies\u001b[0m \u001b[0;34m=\u001b[0m \u001b[0manalyze_reviews\u001b[0m\u001b[0;34m(\u001b[0m\u001b[0mreviews\u001b[0m\u001b[0;34m)\u001b[0m\u001b[0;34m\u001b[0m\u001b[0;34m\u001b[0m\u001b[0m\n\u001b[1;32m     74\u001b[0m     \u001b[0mprint_problems_replies\u001b[0m\u001b[0;34m(\u001b[0m\u001b[0mproblems\u001b[0m\u001b[0;34m,\u001b[0m \u001b[0mreplies\u001b[0m\u001b[0;34m)\u001b[0m\u001b[0;34m\u001b[0m\u001b[0;34m\u001b[0m\u001b[0m\n",
            "\u001b[0;32m<ipython-input-3-d2edc0c3f349>\u001b[0m in \u001b[0;36mread_reviews\u001b[0;34m(file_path)\u001b[0m\n\u001b[1;32m     17\u001b[0m \u001b[0;31m# Define function to read reviews from a text file\u001b[0m\u001b[0;34m\u001b[0m\u001b[0;34m\u001b[0m\u001b[0m\n\u001b[1;32m     18\u001b[0m \u001b[0;32mdef\u001b[0m \u001b[0mread_reviews\u001b[0m\u001b[0;34m(\u001b[0m\u001b[0mfile_path\u001b[0m\u001b[0;34m)\u001b[0m\u001b[0;34m:\u001b[0m\u001b[0;34m\u001b[0m\u001b[0;34m\u001b[0m\u001b[0m\n\u001b[0;32m---> 19\u001b[0;31m     \u001b[0;32mwith\u001b[0m \u001b[0mopen\u001b[0m\u001b[0;34m(\u001b[0m\u001b[0mfile_path\u001b[0m\u001b[0;34m,\u001b[0m \u001b[0;34m'r'\u001b[0m\u001b[0;34m,\u001b[0m \u001b[0mencoding\u001b[0m\u001b[0;34m=\u001b[0m\u001b[0;34m'utf-8'\u001b[0m\u001b[0;34m)\u001b[0m \u001b[0;32mas\u001b[0m \u001b[0mfile\u001b[0m\u001b[0;34m:\u001b[0m\u001b[0;34m\u001b[0m\u001b[0;34m\u001b[0m\u001b[0m\n\u001b[0m\u001b[1;32m     20\u001b[0m         \u001b[0mreviews\u001b[0m \u001b[0;34m=\u001b[0m \u001b[0mfile\u001b[0m\u001b[0;34m.\u001b[0m\u001b[0mreadlines\u001b[0m\u001b[0;34m(\u001b[0m\u001b[0;34m)\u001b[0m\u001b[0;34m\u001b[0m\u001b[0;34m\u001b[0m\u001b[0m\n\u001b[1;32m     21\u001b[0m     \u001b[0;32mreturn\u001b[0m \u001b[0mreviews\u001b[0m\u001b[0;34m\u001b[0m\u001b[0;34m\u001b[0m\u001b[0m\n",
            "\u001b[0;31mFileNotFoundError\u001b[0m: [Errno 2] No such file or directory: 'hotel_reviews.txt'"
          ]
        }
      ],
      "source": [
        "\n",
        "import torch\n",
        "from transformers import pipeline, GPT2LMHeadModel, GPT2Tokenizer, BertForSequenceClassification, BertTokenizer\n",
        "import nltk\n",
        "from nltk.tokenize import sent_tokenize\n",
        "\n",
        "# Ensure necessary NLTK data is downloaded\n",
        "nltk.download('punkt')\n",
        "\n",
        "# Load pre-trained sentiment analysis model and tokenizer\n",
        "bert_model = BertForSequenceClassification.from_pretrained(\"nlptown/bert-base-multilingual-uncased-sentiment\")\n",
        "bert_tokenizer = BertTokenizer.from_pretrained(\"nlptown/bert-base-multilingual-uncased-sentiment\")\n",
        "\n",
        "# Load GPT-2 model and tokenizer for generating replies\n",
        "gpt2_tokenizer = GPT2Tokenizer.from_pretrained(\"gpt2\")\n",
        "gpt2_model = GPT2LMHeadModel.from_pretrained(\"gpt2\")\n",
        "\n",
        "# Define function to read reviews from a text file\n",
        "def read_reviews(file_path):\n",
        "    with open(file_path, 'r', encoding='utf-8') as file:\n",
        "        reviews = file.readlines()\n",
        "    return reviews\n",
        "\n",
        "# Define function to perform sentiment analysis using BERT\n",
        "def sentiment_analysis(text):\n",
        "    inputs = bert_tokenizer(text, return_tensors=\"pt\", truncation=True, padding=True)\n",
        "    outputs = bert_model(**inputs)\n",
        "    scores = outputs.logits.detach().numpy()[0]\n",
        "    sentiment = scores.argmax()\n",
        "    if sentiment in [0, 1]:  # Very Negative, Negative\n",
        "        return \"NEGATIVE\"\n",
        "    elif sentiment == 2:  # Neutral\n",
        "        return \"NEUTRAL\"\n",
        "    else:  # Positive, Very Positive\n",
        "        return \"POSITIVE\"\n",
        "\n",
        "# Define function to identify problems and generate replies\n",
        "def analyze_reviews(reviews):\n",
        "    problems = []\n",
        "    replies = []\n",
        "\n",
        "    for review in reviews:\n",
        "        # Tokenize the review into sentences\n",
        "        sentences = sent_tokenize(review)\n",
        "\n",
        "        for sentence in sentences:\n",
        "            # Analyze sentiment of each sentence\n",
        "            sentiment = sentiment_analysis(sentence)\n",
        "\n",
        "            # If the sentiment is negative or neutral, consider it a problem\n",
        "            if sentiment in ['NEGATIVE', 'NEUTRAL']:\n",
        "                problems.append(sentence)\n",
        "\n",
        "                # Generate a reply based on the problem\n",
        "                input_text = f\"Customer complaint: {sentence}\\nHotel response:\"\n",
        "                inputs = gpt2_tokenizer.encode(input_text, return_tensors=\"pt\")\n",
        "                outputs = gpt2_model.generate(inputs, max_length=100, num_return_sequences=1, no_repeat_ngram_size=2)\n",
        "                reply = gpt2_tokenizer.decode(outputs[0], skip_special_tokens=True)\n",
        "                replies.append(reply.replace(input_text, \"\").strip())\n",
        "\n",
        "    return problems, replies\n",
        "\n",
        "# Define function to print problems and replies\n",
        "def print_problems_replies(problems, replies):\n",
        "    for i, (problem, reply) in enumerate(zip(problems, replies)):\n",
        "        print(f\"Problem {i+1}: {problem}\")\n",
        "        print(f\"Hotel Reply: {reply}\")\n",
        "        print()\n",
        "\n",
        "# Main function to execute the analysis\n",
        "def main():\n",
        "    file_path = 'hotel_reviews.txt'  # Path to the file containing hotel reviews\n",
        "    reviews = read_reviews(file_path)\n",
        "    problems, replies = analyze_reviews(reviews)\n",
        "    print_problems_replies(problems, replies)\n",
        "\n",
        "if __name__ == \"__main__\":\n",
        "    main()"
      ]
    }
  ]
}
