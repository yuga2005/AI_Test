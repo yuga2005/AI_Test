{
  "nbformat_minor": 0,
  "cells": [
    {
      "cell_type": "markdown",
      "metadata": {
        "id": "view-in-github",
        "colab_type": "text"
      },
      "source": [
        "<a href=\"https://colab.research.google.com/github/yuga2005/AI_Test/blob/main/sequence_analyzer.ipynb\" target=\"_parent\"><img src=\"https://colab.research.google.com/assets/colab-badge.svg\" alt=\"Open In Colab\"/></a>"
      ]
    },
    {
      "cell_type": "code",
      "source": [
        "# Sample hotel reviews\n",
        "reviews = [\n",
        "    \"The room was spotless, and the staff were incredibly attentive. Loved the complimentary breakfast!\",\n",
        "\"Check-in was a breeze, but the room was a bit outdated. Overall, a decent stay.\",\n",
        "\"Fantastic location and stunning views from the balcony. Highly recommend!\",\n",
        "\"Had some issues with the Wi-Fi, but the front desk resolved it quickly. Great customer service.\",\n",
        "\"The bed was extremely comfortable, but the noise from the street was quite bothersome.\",\n",
        "\"The pool area was lovely, but the water was too cold for my liking.\",\n",
        "\"Amazing service! The concierge went above and beyond to help us with our plans.\",\n",
        "\"The bathroom was clean, but the shower pressure was too low.\",\n",
        "\"Really enjoyed the on-site restaurant. The food was delicious, and the atmosphere was cozy.\",\n",
        "\"Room service was prompt, and the staff were very polite. Will definitely stay here again.\",\n",
        "\"The air conditioning unit was a bit noisy, but the room was comfortable and spacious.\",\n",
        "\"Loved the modern decor and the comfortable bed. A great place for a short stay.\",\n",
        "\"The location was convenient for sightseeing, but the hotel itself needs some updates.\",\n",
        "\"The fitness center was well-equipped and clean. Great for a quick workout.\",\n",
        "\"Our room had a stunning view of the city skyline. Made our stay memorable!\",\n",
        "\"Staff were friendly, but the check-out process was slower than expected.\",\n",
        "\"The complimentary breakfast had a lot of variety and was very tasty.\",\n",
        "\"The elevator was quite slow, but the overall experience was pleasant.\",\n",
        "\"The hotel lobby was beautiful, but the rooms were a bit small for the price.\",\n",
        "\"Great value for the money. Will definitely recommend to friends and family.\",\n",
        "\"The housekeeping staff did an excellent job. The room was always immaculate.\",\n",
        "\"The parking fees were a bit high, but the location made up for it.\",\n",
        "\"Had an issue with the room key, but it was quickly resolved by the front desk.\",\n",
        "\"The hotel offered a complimentary shuttle to the airport, which was very convenient.\",\n",
        "\"The ambiance of the hotel was very relaxing. Perfect for a weekend getaway.\",\n",
        "\"The pillows were a bit too soft for my liking, but the bed was otherwise comfortable.\",\n",
        "\"Really appreciated the complimentary bottled water and snacks in the room.\",\n",
        "\"The conference facilities were top-notch. Our event went smoothly.\",\n",
        "\"The room had a weird smell, but the staff were accommodating and moved us to a different room.\",\n",
        "\"The spa services were excellent. A great way to unwind during our stay.\"\n",
        "]\n",
        "\n",
        "# Write the reviews to a text file\n",
        "with open('hotel_reviews.txt', 'w') as file:\n",
        "    for review in reviews:\n",
        "        file.write(review + \"\\n\")\n",
        "\n",
        "# Verify the file creation\n",
        "with open('hotel_reviews.txt', 'r') as file:\n",
        "    content = file.read()\n",
        "    print(content)\n"
      ],
      "metadata": {
        "id": "gDH-nSZuat69",
        "outputId": "fa8044d9-b60a-4ffc-ba82-bf153d8f0185",
        "colab": {
          "base_uri": "https://localhost:8080/"
        }
      },
      "execution_count": null,
      "outputs": [
        {
          "output_type": "stream",
          "name": "stdout",
          "text": [
            "The room was spotless, and the staff were incredibly attentive. Loved the complimentary breakfast!\n",
            "Check-in was a breeze, but the room was a bit outdated. Overall, a decent stay.\n",
            "Fantastic location and stunning views from the balcony. Highly recommend!\n",
            "Had some issues with the Wi-Fi, but the front desk resolved it quickly. Great customer service.\n",
            "The bed was extremely comfortable, but the noise from the street was quite bothersome.\n",
            "The pool area was lovely, but the water was too cold for my liking.\n",
            "Amazing service! The concierge went above and beyond to help us with our plans.\n",
            "The bathroom was clean, but the shower pressure was too low.\n",
            "Really enjoyed the on-site restaurant. The food was delicious, and the atmosphere was cozy.\n",
            "Room service was prompt, and the staff were very polite. Will definitely stay here again.\n",
            "The air conditioning unit was a bit noisy, but the room was comfortable and spacious.\n",
            "Loved the modern decor and the comfortable bed. A great place for a short stay.\n",
            "The location was convenient for sightseeing, but the hotel itself needs some updates.\n",
            "The fitness center was well-equipped and clean. Great for a quick workout.\n",
            "Our room had a stunning view of the city skyline. Made our stay memorable!\n",
            "Staff were friendly, but the check-out process was slower than expected.\n",
            "The complimentary breakfast had a lot of variety and was very tasty.\n",
            "The elevator was quite slow, but the overall experience was pleasant.\n",
            "The hotel lobby was beautiful, but the rooms were a bit small for the price.\n",
            "Great value for the money. Will definitely recommend to friends and family.\n",
            "The housekeeping staff did an excellent job. The room was always immaculate.\n",
            "The parking fees were a bit high, but the location made up for it.\n",
            "Had an issue with the room key, but it was quickly resolved by the front desk.\n",
            "The hotel offered a complimentary shuttle to the airport, which was very convenient.\n",
            "The ambiance of the hotel was very relaxing. Perfect for a weekend getaway.\n",
            "The pillows were a bit too soft for my liking, but the bed was otherwise comfortable.\n",
            "Really appreciated the complimentary bottled water and snacks in the room.\n",
            "The conference facilities were top-notch. Our event went smoothly.\n",
            "The room had a weird smell, but the staff were accommodating and moved us to a different room.\n",
            "The spa services were excellent. A great way to unwind during our stay.\n",
            "\n"
          ]
        }
      ]
    },
    {
      "cell_type": "code",
      "source": [
        "import torch\n",
        "from transformers import RobertaForSequenceClassification, RobertaTokenizer\n",
        "import nltk\n",
        "from nltk.tokenize import sent_tokenize\n",
        "import matplotlib.pyplot as plt\n",
        "from collections import Counter\n",
        "\n",
        "nltk.download('punkt')\n",
        "\n",
        "roberta_model = RobertaForSequenceClassification.from_pretrained(\"cardiffnlp/twitter-roberta-base-sentiment\")\n",
        "roberta_tokenizer = RobertaTokenizer.from_pretrained(\"cardiffnlp/twitter-roberta-base-sentiment\")\n",
        "\n",
        "def read_reviews(file_path):\n",
        "  # Read the file as a plain text file and store each line as a review\n",
        "  with open(file_path, 'r', encoding='utf-8') as file:\n",
        "    reviews = file.readlines()\n",
        "  return reviews\n",
        "\n",
        "def sentiment_analysis(text):\n",
        "  inputs = roberta_tokenizer(text, return_tensors=\"pt\", truncation=True, padding=True, max_length=512)\n",
        "  with torch.no_grad():\n",
        "    outputs = roberta_model(**inputs)\n",
        "    scores = outputs.logits.detach().numpy()[0]\n",
        "    sentiment = scores.argmax()\n",
        "    if sentiment == 0:  # Negative\n",
        "        return \"NEGATIVE\"\n",
        "    elif sentiment == 1:  # Neutral\n",
        "        return \"NEUTRAL\"\n",
        "    else:  # Positive\n",
        "        return \"POSITIVE\"\n",
        "\n",
        "# Define function to analyze reviews and generate insights\n",
        "def analyze_reviews(reviews):\n",
        "    problems = []\n",
        "    sentiment_counts = {\"POSITIVE\": 0, \"NEUTRAL\": 0, \"NEGATIVE\": 0}\n",
        "\n",
        "    for review in reviews:\n",
        "        # Tokenize the review into sentences\n",
        "        sentences = sent_tokenize(review)\n",
        "        for sentence in sentences:\n",
        "            # Analyze sentiment of each sentence\n",
        "            sentiment = sentiment_analysis(sentence)\n",
        "            sentiment_counts[sentiment] += 1\n",
        "\n",
        "            # If the sentiment is negative or neutral, consider it a problem\n",
        "            if sentiment in ['NEGATIVE', 'NEUTRAL']:\n",
        "                problems.append(sentence)\n",
        "\n",
        "    return problems, sentiment_counts\n",
        "\n",
        "def list_common_problems(problems):\n",
        "    problem_counter = Counter(problems)\n",
        "    most_common_problems = problem_counter.most_common(5)\n",
        "\n",
        "    print(\"Top Issues Mentioned in Reviews:\")\n",
        "    for i, (problem, count) in enumerate(most_common_problems, start=1):\n",
        "        print(f\"{i}. {problem} (Mentioned {count} times)\")\n",
        "\n",
        "\n",
        "# Define function to visualize sentiment distribution\n",
        "def visualize_sentiments(sentiment_counts):\n",
        "    labels = list(sentiment_counts.keys())\n",
        "    sizes = list(sentiment_counts.values())\n",
        "    colors = ['green', 'blue', 'red']\n",
        "\n",
        "    plt.figure(figsize=(10, 6))\n",
        "    bars = plt.bar(labels, sizes, color=colors)\n",
        "\n",
        "    # Add text annotations on bars\n",
        "    for bar in bars:\n",
        "        yval = bar.get_height()\n",
        "        plt.text(bar.get_x() + bar.get_width()/2, yval + 1, yval, ha='center', va='bottom')\n",
        "\n",
        "    plt.xlabel('Sentiment')\n",
        "    plt.ylabel('Number of Reviews')\n",
        "    plt.title('Sentiment Distribution of Hotel Reviews')\n",
        "    plt.show()\n",
        "\n",
        "# Main function to execute the analysis\n",
        "def main():\n",
        "    file_path = 'hotel_reviews.txt'  # Path to the file containing hotel reviews\n",
        "    reviews = read_reviews(file_path)\n",
        "    problems, sentiment_counts = analyze_reviews(reviews)\n",
        "    list_common_problems(problems)\n",
        "    visualize_sentiments(sentiment_counts)\n",
        "\n",
        "if __name__ == \"__main__\":\n",
        "    main()\n"
      ],
      "metadata": {
        "id": "4BZaxOfYePLP",
        "outputId": "b7b86387-e615-4090-abca-652dbaae39b3",
        "colab": {
          "base_uri": "https://localhost:8080/",
          "height": 703
        }
      },
      "execution_count": null,
      "outputs": [
        {
          "output_type": "stream",
          "name": "stderr",
          "text": [
            "[nltk_data] Downloading package punkt to /root/nltk_data...\n",
            "[nltk_data]   Package punkt is already up-to-date!\n"
          ]
        },
        {
          "output_type": "stream",
          "name": "stdout",
          "text": [
            "Top Issues Mentioned in Reviews:\n",
            "1. Check-in was a breeze, but the room was a bit outdated. (Mentioned 1 times)\n",
            "2. Had some issues with the Wi-Fi, but the front desk resolved it quickly. (Mentioned 1 times)\n",
            "3. The bed was extremely comfortable, but the noise from the street was quite bothersome. (Mentioned 1 times)\n",
            "4. The pool area was lovely, but the water was too cold for my liking. (Mentioned 1 times)\n",
            "5. The bathroom was clean, but the shower pressure was too low. (Mentioned 1 times)\n"
          ]
        },
        {
          "output_type": "display_data",
          "data": {
            "text/plain": [
              "<Figure size 1000x600 with 1 Axes>"
            ],
            "image/png": "[encoded data removed]"
          },
          "metadata": {}
        }
      ]
    }
  ],
  "metadata": {
    "colab": {
      "collapsed_sections": [
        "JndnmDMp66FL",
        "YHIWvc9Ms-Ll",
        "TJffr5_Jwqvd"
      ],
      "name": "Sentiment_Analyzer.ipynb",
      "provenance": [],
      "include_colab_link": true
    },
    "kernelspec": {
      "name": "python3",
      "display_name": "Python 3"
    }
  },
  "nbformat": 4
}
